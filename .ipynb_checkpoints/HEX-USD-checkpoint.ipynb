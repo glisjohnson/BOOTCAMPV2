{
 "cells": [
  {
   "cell_type": "code",
   "execution_count": 22,
   "id": "1bd98d88-dc05-472d-b0e7-90bd743ea2ce",
   "metadata": {},
   "outputs": [],
   "source": [
    "import pandas as pd\n",
    "import numpy as np\n",
    "import matplotlib.pyplot as plt\n",
    "import pandas_datareader as web"
   ]
  },
  {
   "cell_type": "code",
   "execution_count": 34,
   "id": "3b8098bc-780a-42ea-8696-d5f7f3ac1027",
   "metadata": {},
   "outputs": [],
   "source": [
    "tickers = ['HEX-USD', 'PLSD-USD']"
   ]
  },
  {
   "cell_type": "code",
   "execution_count": 35,
   "id": "7fcaed9a-d3a9-4268-9fce-38586644e07a",
   "metadata": {},
   "outputs": [],
   "source": [
    "weights = [0.95, 0.05]"
   ]
  },
  {
   "cell_type": "code",
   "execution_count": 36,
   "id": "44a6be72-de58-4efa-ae2f-de7dda5b3949",
   "metadata": {},
   "outputs": [
    {
     "data": {
      "text/html": [
       "<div>\n",
       "<style scoped>\n",
       "    .dataframe tbody tr th:only-of-type {\n",
       "        vertical-align: middle;\n",
       "    }\n",
       "\n",
       "    .dataframe tbody tr th {\n",
       "        vertical-align: top;\n",
       "    }\n",
       "\n",
       "    .dataframe thead tr th {\n",
       "        text-align: left;\n",
       "    }\n",
       "\n",
       "    .dataframe thead tr:last-of-type th {\n",
       "        text-align: right;\n",
       "    }\n",
       "</style>\n",
       "<table border=\"1\" class=\"dataframe\">\n",
       "  <thead>\n",
       "    <tr>\n",
       "      <th>Attributes</th>\n",
       "      <th colspan=\"2\" halign=\"left\">Adj Close</th>\n",
       "      <th colspan=\"2\" halign=\"left\">Close</th>\n",
       "      <th colspan=\"2\" halign=\"left\">High</th>\n",
       "      <th colspan=\"2\" halign=\"left\">Low</th>\n",
       "      <th colspan=\"2\" halign=\"left\">Open</th>\n",
       "      <th colspan=\"2\" halign=\"left\">Volume</th>\n",
       "    </tr>\n",
       "    <tr>\n",
       "      <th>Symbols</th>\n",
       "      <th>HEX-USD</th>\n",
       "      <th>PLSD-USD</th>\n",
       "      <th>HEX-USD</th>\n",
       "      <th>PLSD-USD</th>\n",
       "      <th>HEX-USD</th>\n",
       "      <th>PLSD-USD</th>\n",
       "      <th>HEX-USD</th>\n",
       "      <th>PLSD-USD</th>\n",
       "      <th>HEX-USD</th>\n",
       "      <th>PLSD-USD</th>\n",
       "      <th>HEX-USD</th>\n",
       "      <th>PLSD-USD</th>\n",
       "    </tr>\n",
       "    <tr>\n",
       "      <th>Date</th>\n",
       "      <th></th>\n",
       "      <th></th>\n",
       "      <th></th>\n",
       "      <th></th>\n",
       "      <th></th>\n",
       "      <th></th>\n",
       "      <th></th>\n",
       "      <th></th>\n",
       "      <th></th>\n",
       "      <th></th>\n",
       "      <th></th>\n",
       "      <th></th>\n",
       "    </tr>\n",
       "  </thead>\n",
       "  <tbody>\n",
       "    <tr>\n",
       "      <th>2022-08-07</th>\n",
       "      <td>0.051204</td>\n",
       "      <td>8.419267</td>\n",
       "      <td>0.051204</td>\n",
       "      <td>8.419267</td>\n",
       "      <td>0.051631</td>\n",
       "      <td>8.671531</td>\n",
       "      <td>0.049629</td>\n",
       "      <td>8.202662</td>\n",
       "      <td>0.051130</td>\n",
       "      <td>8.386912</td>\n",
       "      <td>7092839.0</td>\n",
       "      <td>754109.0</td>\n",
       "    </tr>\n",
       "    <tr>\n",
       "      <th>2022-08-08</th>\n",
       "      <td>0.052820</td>\n",
       "      <td>7.146456</td>\n",
       "      <td>0.052820</td>\n",
       "      <td>7.146456</td>\n",
       "      <td>0.055531</td>\n",
       "      <td>8.468697</td>\n",
       "      <td>0.051204</td>\n",
       "      <td>5.921521</td>\n",
       "      <td>0.051204</td>\n",
       "      <td>8.419425</td>\n",
       "      <td>13328997.0</td>\n",
       "      <td>2478100.0</td>\n",
       "    </tr>\n",
       "    <tr>\n",
       "      <th>2022-08-09</th>\n",
       "      <td>0.054973</td>\n",
       "      <td>7.453550</td>\n",
       "      <td>0.054973</td>\n",
       "      <td>7.453550</td>\n",
       "      <td>0.057197</td>\n",
       "      <td>7.453567</td>\n",
       "      <td>0.052820</td>\n",
       "      <td>6.269395</td>\n",
       "      <td>0.052820</td>\n",
       "      <td>7.146556</td>\n",
       "      <td>11645887.0</td>\n",
       "      <td>918618.0</td>\n",
       "    </tr>\n",
       "    <tr>\n",
       "      <th>2022-08-10</th>\n",
       "      <td>0.059234</td>\n",
       "      <td>8.281947</td>\n",
       "      <td>0.059234</td>\n",
       "      <td>8.281947</td>\n",
       "      <td>0.059686</td>\n",
       "      <td>8.391620</td>\n",
       "      <td>0.053195</td>\n",
       "      <td>7.356874</td>\n",
       "      <td>0.054973</td>\n",
       "      <td>7.453353</td>\n",
       "      <td>14128797.0</td>\n",
       "      <td>550949.0</td>\n",
       "    </tr>\n",
       "    <tr>\n",
       "      <th>2022-08-11</th>\n",
       "      <td>0.060315</td>\n",
       "      <td>7.706560</td>\n",
       "      <td>0.060315</td>\n",
       "      <td>7.706560</td>\n",
       "      <td>0.063157</td>\n",
       "      <td>8.544893</td>\n",
       "      <td>0.058349</td>\n",
       "      <td>7.668836</td>\n",
       "      <td>0.059240</td>\n",
       "      <td>8.281952</td>\n",
       "      <td>16926225.0</td>\n",
       "      <td>970666.0</td>\n",
       "    </tr>\n",
       "  </tbody>\n",
       "</table>\n",
       "</div>"
      ],
      "text/plain": [
       "Attributes Adj Close               Close                High            \\\n",
       "Symbols      HEX-USD  PLSD-USD   HEX-USD  PLSD-USD   HEX-USD  PLSD-USD   \n",
       "Date                                                                     \n",
       "2022-08-07  0.051204  8.419267  0.051204  8.419267  0.051631  8.671531   \n",
       "2022-08-08  0.052820  7.146456  0.052820  7.146456  0.055531  8.468697   \n",
       "2022-08-09  0.054973  7.453550  0.054973  7.453550  0.057197  7.453567   \n",
       "2022-08-10  0.059234  8.281947  0.059234  8.281947  0.059686  8.391620   \n",
       "2022-08-11  0.060315  7.706560  0.060315  7.706560  0.063157  8.544893   \n",
       "\n",
       "Attributes       Low                Open                Volume             \n",
       "Symbols      HEX-USD  PLSD-USD   HEX-USD  PLSD-USD     HEX-USD   PLSD-USD  \n",
       "Date                                                                       \n",
       "2022-08-07  0.049629  8.202662  0.051130  8.386912   7092839.0   754109.0  \n",
       "2022-08-08  0.051204  5.921521  0.051204  8.419425  13328997.0  2478100.0  \n",
       "2022-08-09  0.052820  6.269395  0.052820  7.146556  11645887.0   918618.0  \n",
       "2022-08-10  0.053195  7.356874  0.054973  7.453353  14128797.0   550949.0  \n",
       "2022-08-11  0.058349  7.668836  0.059240  8.281952  16926225.0   970666.0  "
      ]
     },
     "execution_count": 36,
     "metadata": {},
     "output_type": "execute_result"
    }
   ],
   "source": [
    "price_data = web.get_data_yahoo(tickers,\n",
    "                                start = '2019-12-05',\n",
    "                                end = '2022-10-12').dropna()\n",
    "price_data.head()"
   ]
  },
  {
   "cell_type": "code",
   "execution_count": 37,
   "id": "75ecfd8d-a9f0-4d0d-8bd3-e5eae64889eb",
   "metadata": {},
   "outputs": [
    {
     "data": {
      "text/html": [
       "<div>\n",
       "<style scoped>\n",
       "    .dataframe tbody tr th:only-of-type {\n",
       "        vertical-align: middle;\n",
       "    }\n",
       "\n",
       "    .dataframe tbody tr th {\n",
       "        vertical-align: top;\n",
       "    }\n",
       "\n",
       "    .dataframe thead th {\n",
       "        text-align: right;\n",
       "    }\n",
       "</style>\n",
       "<table border=\"1\" class=\"dataframe\">\n",
       "  <thead>\n",
       "    <tr style=\"text-align: right;\">\n",
       "      <th>Symbols</th>\n",
       "      <th>HEX-USD</th>\n",
       "      <th>PLSD-USD</th>\n",
       "    </tr>\n",
       "    <tr>\n",
       "      <th>Date</th>\n",
       "      <th></th>\n",
       "      <th></th>\n",
       "    </tr>\n",
       "  </thead>\n",
       "  <tbody>\n",
       "    <tr>\n",
       "      <th>2022-08-07</th>\n",
       "      <td>7092839.0</td>\n",
       "      <td>754109.0</td>\n",
       "    </tr>\n",
       "    <tr>\n",
       "      <th>2022-08-08</th>\n",
       "      <td>13328997.0</td>\n",
       "      <td>2478100.0</td>\n",
       "    </tr>\n",
       "    <tr>\n",
       "      <th>2022-08-09</th>\n",
       "      <td>11645887.0</td>\n",
       "      <td>918618.0</td>\n",
       "    </tr>\n",
       "    <tr>\n",
       "      <th>2022-08-10</th>\n",
       "      <td>14128797.0</td>\n",
       "      <td>550949.0</td>\n",
       "    </tr>\n",
       "    <tr>\n",
       "      <th>2022-08-11</th>\n",
       "      <td>16926225.0</td>\n",
       "      <td>970666.0</td>\n",
       "    </tr>\n",
       "  </tbody>\n",
       "</table>\n",
       "</div>"
      ],
      "text/plain": [
       "Symbols        HEX-USD   PLSD-USD\n",
       "Date                             \n",
       "2022-08-07   7092839.0   754109.0\n",
       "2022-08-08  13328997.0  2478100.0\n",
       "2022-08-09  11645887.0   918618.0\n",
       "2022-08-10  14128797.0   550949.0\n",
       "2022-08-11  16926225.0   970666.0"
      ]
     },
     "execution_count": 37,
     "metadata": {},
     "output_type": "execute_result"
    }
   ],
   "source": [
    "volume_data = price_data['Volume']\n",
    "volume_data.head()"
   ]
  },
  {
   "cell_type": "code",
   "execution_count": 38,
   "id": "ad526dc0-10fa-4bcd-bca0-00ba7b26001d",
   "metadata": {},
   "outputs": [
    {
     "data": {
      "text/html": [
       "<div>\n",
       "<style scoped>\n",
       "    .dataframe tbody tr th:only-of-type {\n",
       "        vertical-align: middle;\n",
       "    }\n",
       "\n",
       "    .dataframe tbody tr th {\n",
       "        vertical-align: top;\n",
       "    }\n",
       "\n",
       "    .dataframe thead th {\n",
       "        text-align: right;\n",
       "    }\n",
       "</style>\n",
       "<table border=\"1\" class=\"dataframe\">\n",
       "  <thead>\n",
       "    <tr style=\"text-align: right;\">\n",
       "      <th>Symbols</th>\n",
       "      <th>HEX-USD</th>\n",
       "      <th>PLSD-USD</th>\n",
       "    </tr>\n",
       "    <tr>\n",
       "      <th>Date</th>\n",
       "      <th></th>\n",
       "      <th></th>\n",
       "    </tr>\n",
       "  </thead>\n",
       "  <tbody>\n",
       "    <tr>\n",
       "      <th>2022-08-07</th>\n",
       "      <td>0.051204</td>\n",
       "      <td>8.419267</td>\n",
       "    </tr>\n",
       "    <tr>\n",
       "      <th>2022-08-08</th>\n",
       "      <td>0.052820</td>\n",
       "      <td>7.146456</td>\n",
       "    </tr>\n",
       "    <tr>\n",
       "      <th>2022-08-09</th>\n",
       "      <td>0.054973</td>\n",
       "      <td>7.453550</td>\n",
       "    </tr>\n",
       "    <tr>\n",
       "      <th>2022-08-10</th>\n",
       "      <td>0.059234</td>\n",
       "      <td>8.281947</td>\n",
       "    </tr>\n",
       "    <tr>\n",
       "      <th>2022-08-11</th>\n",
       "      <td>0.060315</td>\n",
       "      <td>7.706560</td>\n",
       "    </tr>\n",
       "  </tbody>\n",
       "</table>\n",
       "</div>"
      ],
      "text/plain": [
       "Symbols      HEX-USD  PLSD-USD\n",
       "Date                          \n",
       "2022-08-07  0.051204  8.419267\n",
       "2022-08-08  0.052820  7.146456\n",
       "2022-08-09  0.054973  7.453550\n",
       "2022-08-10  0.059234  8.281947\n",
       "2022-08-11  0.060315  7.706560"
      ]
     },
     "execution_count": 38,
     "metadata": {},
     "output_type": "execute_result"
    }
   ],
   "source": [
    "price_data = price_data['Adj Close']\n",
    "price_data.head()"
   ]
  },
  {
   "cell_type": "code",
   "execution_count": 39,
   "id": "b57848b4-2361-41cc-ae2c-d41b85014f97",
   "metadata": {},
   "outputs": [
    {
     "data": {
      "text/html": [
       "<div>\n",
       "<style scoped>\n",
       "    .dataframe tbody tr th:only-of-type {\n",
       "        vertical-align: middle;\n",
       "    }\n",
       "\n",
       "    .dataframe tbody tr th {\n",
       "        vertical-align: top;\n",
       "    }\n",
       "\n",
       "    .dataframe thead th {\n",
       "        text-align: right;\n",
       "    }\n",
       "</style>\n",
       "<table border=\"1\" class=\"dataframe\">\n",
       "  <thead>\n",
       "    <tr style=\"text-align: right;\">\n",
       "      <th>Symbols</th>\n",
       "      <th>HEX-USD</th>\n",
       "      <th>PLSD-USD</th>\n",
       "    </tr>\n",
       "    <tr>\n",
       "      <th>Date</th>\n",
       "      <th></th>\n",
       "      <th></th>\n",
       "    </tr>\n",
       "  </thead>\n",
       "  <tbody>\n",
       "    <tr>\n",
       "      <th>2022-08-08</th>\n",
       "      <td>0.031560</td>\n",
       "      <td>-0.151178</td>\n",
       "    </tr>\n",
       "    <tr>\n",
       "      <th>2022-08-09</th>\n",
       "      <td>0.040761</td>\n",
       "      <td>0.042972</td>\n",
       "    </tr>\n",
       "    <tr>\n",
       "      <th>2022-08-10</th>\n",
       "      <td>0.077511</td>\n",
       "      <td>0.111141</td>\n",
       "    </tr>\n",
       "    <tr>\n",
       "      <th>2022-08-11</th>\n",
       "      <td>0.018250</td>\n",
       "      <td>-0.069475</td>\n",
       "    </tr>\n",
       "    <tr>\n",
       "      <th>2022-08-12</th>\n",
       "      <td>0.037420</td>\n",
       "      <td>-0.016937</td>\n",
       "    </tr>\n",
       "    <tr>\n",
       "      <th>...</th>\n",
       "      <td>...</td>\n",
       "      <td>...</td>\n",
       "    </tr>\n",
       "    <tr>\n",
       "      <th>2022-10-08</th>\n",
       "      <td>-0.005461</td>\n",
       "      <td>-0.110971</td>\n",
       "    </tr>\n",
       "    <tr>\n",
       "      <th>2022-10-09</th>\n",
       "      <td>0.013954</td>\n",
       "      <td>-0.004086</td>\n",
       "    </tr>\n",
       "    <tr>\n",
       "      <th>2022-10-10</th>\n",
       "      <td>-0.024592</td>\n",
       "      <td>0.098701</td>\n",
       "    </tr>\n",
       "    <tr>\n",
       "      <th>2022-10-11</th>\n",
       "      <td>-0.010306</td>\n",
       "      <td>0.149108</td>\n",
       "    </tr>\n",
       "    <tr>\n",
       "      <th>2022-10-12</th>\n",
       "      <td>0.002107</td>\n",
       "      <td>0.022596</td>\n",
       "    </tr>\n",
       "  </tbody>\n",
       "</table>\n",
       "<p>66 rows × 2 columns</p>\n",
       "</div>"
      ],
      "text/plain": [
       "Symbols      HEX-USD  PLSD-USD\n",
       "Date                          \n",
       "2022-08-08  0.031560 -0.151178\n",
       "2022-08-09  0.040761  0.042972\n",
       "2022-08-10  0.077511  0.111141\n",
       "2022-08-11  0.018250 -0.069475\n",
       "2022-08-12  0.037420 -0.016937\n",
       "...              ...       ...\n",
       "2022-10-08 -0.005461 -0.110971\n",
       "2022-10-09  0.013954 -0.004086\n",
       "2022-10-10 -0.024592  0.098701\n",
       "2022-10-11 -0.010306  0.149108\n",
       "2022-10-12  0.002107  0.022596\n",
       "\n",
       "[66 rows x 2 columns]"
      ]
     },
     "execution_count": 39,
     "metadata": {},
     "output_type": "execute_result"
    }
   ],
   "source": [
    "daily_returns = price_data.pct_change().dropna()\n",
    "daily_returns"
   ]
  },
  {
   "cell_type": "code",
   "execution_count": 40,
   "id": "acbfe674-75a7-4e98-b007-8306134697ea",
   "metadata": {},
   "outputs": [
    {
     "data": {
      "text/html": [
       "<div>\n",
       "<style scoped>\n",
       "    .dataframe tbody tr th:only-of-type {\n",
       "        vertical-align: middle;\n",
       "    }\n",
       "\n",
       "    .dataframe tbody tr th {\n",
       "        vertical-align: top;\n",
       "    }\n",
       "\n",
       "    .dataframe thead th {\n",
       "        text-align: right;\n",
       "    }\n",
       "</style>\n",
       "<table border=\"1\" class=\"dataframe\">\n",
       "  <thead>\n",
       "    <tr style=\"text-align: right;\">\n",
       "      <th>Symbols</th>\n",
       "      <th>HEX-USD</th>\n",
       "      <th>PLSD-USD</th>\n",
       "    </tr>\n",
       "    <tr>\n",
       "      <th>Date</th>\n",
       "      <th></th>\n",
       "      <th></th>\n",
       "    </tr>\n",
       "  </thead>\n",
       "  <tbody>\n",
       "    <tr>\n",
       "      <th>2022-08-08</th>\n",
       "      <td>0.029982</td>\n",
       "      <td>-0.007559</td>\n",
       "    </tr>\n",
       "    <tr>\n",
       "      <th>2022-08-09</th>\n",
       "      <td>0.038723</td>\n",
       "      <td>0.002149</td>\n",
       "    </tr>\n",
       "    <tr>\n",
       "      <th>2022-08-10</th>\n",
       "      <td>0.073635</td>\n",
       "      <td>0.005557</td>\n",
       "    </tr>\n",
       "    <tr>\n",
       "      <th>2022-08-11</th>\n",
       "      <td>0.017337</td>\n",
       "      <td>-0.003474</td>\n",
       "    </tr>\n",
       "    <tr>\n",
       "      <th>2022-08-12</th>\n",
       "      <td>0.035549</td>\n",
       "      <td>-0.000847</td>\n",
       "    </tr>\n",
       "  </tbody>\n",
       "</table>\n",
       "</div>"
      ],
      "text/plain": [
       "Symbols      HEX-USD  PLSD-USD\n",
       "Date                          \n",
       "2022-08-08  0.029982 -0.007559\n",
       "2022-08-09  0.038723  0.002149\n",
       "2022-08-10  0.073635  0.005557\n",
       "2022-08-11  0.017337 -0.003474\n",
       "2022-08-12  0.035549 -0.000847"
      ]
     },
     "execution_count": 40,
     "metadata": {},
     "output_type": "execute_result"
    }
   ],
   "source": [
    "weighted_returns = (weights * daily_returns)\n",
    "weighted_returns.head()"
   ]
  },
  {
   "cell_type": "code",
   "execution_count": 41,
   "id": "7bd0387c-f13d-43d0-bccf-8e7e24052b27",
   "metadata": {},
   "outputs": [
    {
     "data": {
      "text/plain": [
       "Date\n",
       "2022-08-08    0.022423\n",
       "2022-08-09    0.040872\n",
       "2022-08-10    0.079192\n",
       "2022-08-11    0.013863\n",
       "2022-08-12    0.034702\n",
       "                ...   \n",
       "2022-10-08   -0.010736\n",
       "2022-10-09    0.013052\n",
       "2022-10-10   -0.018427\n",
       "2022-10-11   -0.002335\n",
       "2022-10-12    0.003132\n",
       "Length: 66, dtype: float64"
      ]
     },
     "execution_count": 41,
     "metadata": {},
     "output_type": "execute_result"
    }
   ],
   "source": [
    "portfolio_daily_returns = weighted_returns.sum(axis=1)\n",
    "portfolio_daily_returns"
   ]
  },
  {
   "cell_type": "code",
   "execution_count": 42,
   "id": "568e1ce9-04a2-4b58-a40f-4fbf2017ce0a",
   "metadata": {},
   "outputs": [
    {
     "data": {
      "text/plain": [
       "Date\n",
       "2022-08-08    0.022423\n",
       "2022-08-09    0.064211\n",
       "2022-08-10    0.148489\n",
       "2022-08-11    0.164411\n",
       "2022-08-12    0.204818\n",
       "                ...   \n",
       "2022-10-08   -0.358433\n",
       "2022-10-09   -0.350060\n",
       "2022-10-10   -0.362036\n",
       "2022-10-11   -0.363526\n",
       "2022-10-12   -0.361532\n",
       "Length: 66, dtype: float64"
      ]
     },
     "execution_count": 42,
     "metadata": {},
     "output_type": "execute_result"
    }
   ],
   "source": [
    "cumulative_returns = (portfolio_daily_returns + 1).cumprod() - 1\n",
    "cumulative_returns"
   ]
  },
  {
   "cell_type": "code",
   "execution_count": 43,
   "id": "1045be4b-6522-4a94-af64-c4bc359a2138",
   "metadata": {},
   "outputs": [
    {
     "data": {
      "text/plain": [
       "<AxesSubplot:xlabel='Date'>"
      ]
     },
     "execution_count": 43,
     "metadata": {},
     "output_type": "execute_result"
    },
    {
     "data": {
      "image/png": "[encoded data removed]",
      "text/plain": [
       "<Figure size 432x288 with 1 Axes>"
      ]
     },
     "metadata": {
      "needs_background": "light"
     },
     "output_type": "display_data"
    }
   ],
   "source": [
    "cumulative_returns.plot()"
   ]
  },
  {
   "cell_type": "code",
   "execution_count": 44,
   "id": "3236a8e2-9891-4903-ad2d-41a0b14d7924",
   "metadata": {},
   "outputs": [
    {
     "data": {
      "text/plain": [
       "<AxesSubplot:xlabel='Date'>"
      ]
     },
     "execution_count": 44,
     "metadata": {},
     "output_type": "execute_result"
    },
    {
     "data": {
      "image/png": "[encoded data removed]",
      "text/plain": [
       "<Figure size 432x288 with 1 Axes>"
      ]
     },
     "metadata": {
      "needs_background": "light"
     },
     "output_type": "display_data"
    }
   ],
   "source": [
    "volume_data.plot()"
   ]
  },
  {
   "cell_type": "code",
   "execution_count": null,
   "id": "6b464719-16f7-4e9b-913f-5bc7ef7a66d1",
   "metadata": {},
   "outputs": [],
   "source": []
  }
 ],
 "metadata": {
  "kernelspec": {
   "display_name": "Python 3 (ipykernel)",
   "language": "python",
   "name": "python3"
  },
  "language_info": {
   "codemirror_mode": {
    "name": "ipython",
    "version": 3
   },
   "file_extension": ".py",
   "mimetype": "text/x-python",
   "name": "python",
   "nbconvert_exporter": "python",
   "pygments_lexer": "ipython3",
   "version": "3.7.13"
  }
 },
 "nbformat": 4,
 "nbformat_minor": 5
}
